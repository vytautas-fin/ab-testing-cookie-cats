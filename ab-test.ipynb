{
 "cells": [
  {
   "cell_type": "markdown",
   "id": "fa4bd9dd",
   "metadata": {},
   "source": [
    "\n",
    "\n",
    "\n",
    "# <font color=\"#00bfff\">1. Project overview</font>\n",
    "\n",
    "Cookie Cats is a hugely popular mobile puzzle game developed by Tactile Entertainment. It's a classic \"connect three\" style puzzle game where the player must connect tiles of the same color in order to clear the board and win the level. It also features singing cats. We're not kidding!\n",
    "\n",
    "As players progress through the game they will encounter gates that force them to wait some time before they can progress or make an in-app purchase. In this project, we will analyze the result of an A/B test where the first gate in Cookie Cats was moved from level 30 to level 40. In particular, we will analyze the impact on player retention and engagement.\n",
    "\n",
    "\n",
    "<br><font color=\"#00bfff\">Data overview</font>\n",
    "\n",
    "- `userid` - a unique number that identifies each player.\n",
    "- `version` - whether the player was put in the control group (gate_30 - a gate at level 30) or the test group (gate_40 - a gate at level 40).\n",
    "- `sum_gamerounds` - the number of game rounds played by the player during the first week after installation\n",
    "- `retention_1` - did the player come back and play 1 day after installing?\n",
    "- `retention_7` - did the player come back and play 7 days after installing?\n",
    "\n",
    "\n",
    "Dataset can be found on [Kaggle.](https://www.kaggle.com/datasets/mursideyarkin/mobile-games-ab-testing-cookie-cats/data)"
   ]
  },
  {
   "cell_type": "markdown",
   "id": "dc438f54",
   "metadata": {},
   "source": [
    "# <font color=\"#00bfff\">2. Experiment design</font>\n",
    "\n",
    "This section outlines the structured methodology used to design and run the A/B test. The goal is to ensure that the results are statistically significant, unbiased, and directly address the core business question of whether moving the in-game gate from level 30 to level 40 impacts player behavior.\n"
   ]
  },
  {
   "cell_type": "markdown",
   "id": "ec8c79c3",
   "metadata": {},
   "source": [
    "\n",
    "## <font color=\"#00bfff\">2.1 Business Goal</font>\n",
    "\n",
    "The primary business goal is to determine if moving the first mandatory stopping point (the \"gate\") from level 30 to level 40 improves overall player experience and value. The company wants to validate whether this change leads to higher player retention and deeper engagement in the first week after installation.\n"
   ]
  },
  {
   "cell_type": "markdown",
   "id": "f748a8ac",
   "metadata": {},
   "source": [
    "\n",
    "## <font color=\"#00bfff\">2.2 The Underlying Hypothesis</font>\n",
    "\n",
    "The business is operating on a key assumption: encountering a progression gate too early in the game might be a frustrating experience that causes players to quit.\n",
    "\n",
    "By moving the gate to a later level (40), the hypothesis is that:\n",
    "\n",
    "- Players will have more time to enjoy the core gameplay loop without interruption.\n",
    "- This enhanced early experience will make them more invested and committed to the game.\n",
    "- As a result, a higher percentage of players will return to play on subsequent days, and they will play more game rounds in total.\n"
   ]
  },
  {
   "cell_type": "markdown",
   "id": "4369ecb0",
   "metadata": {},
   "source": [
    "  \n",
    "## <font color=\"#00bfff\">2.3 Key Performance Indicators (KPIs)</font>\n",
    "\n",
    "To measure the success of this change, the business will focus on two specific areas:\n",
    "\n",
    "- **Player Retention**: This is the most critical metric for the long-term health of a free-to-play game. It answers the question, \"Are players coming back?\"\n",
    "  - `retention_1`: Measures short-term retention (1 day after install).\n",
    "  - `retention_7`: Measures medium-term retention (7 days after install), which is often a strong indicator of a player's long-term value.\n",
    "- **Player Engagement**: This metric measures how much a player is interacting with the game. It answers the question, \"How much are players playing?\"\n",
    "  - `sum_gamerounds`: The total number of rounds played in the first week provides a clear signal of how captivated a player is by the game.\n"
   ]
  },
  {
   "cell_type": "markdown",
   "id": "5640d705",
   "metadata": {},
   "source": [
    "\n",
    "## <font color=\"#00bfff\">2.4 Primary metric</font>\n",
    "\n",
    " When we have multiple metrics, we risk a situation where one metric goes up, another goes down, and we don't know how to make a decision. To avoid this, we must decide on a **single Primary Metric** (also called a \"North Star\" metric) before the experiment begins. This is the metric that will ultimately determine if the test is a success or failure. The other metrics become **Secondary Metrics**, which provide valuable context but do not drive the final \"Go/No-Go\" decision.\n",
    "\n",
    "- **Primary Metric**: `retention_7`. This is the single metric that will determine the success or failure of the experiment\n",
    "- **Secondary Metrics**: `retention_1` and `sum_gamerounds`. These will be analyzed to understand the full impact of the change on user behavior.\n"
   ]
  },
  {
   "cell_type": "markdown",
   "id": "f1a286e2",
   "metadata": {},
   "source": [
    "\n",
    "## <font color=\"#00bfff\">2.5 Hypotheses</font>\n",
    "\n",
    "For each key metric, a null and alternative hypothesis were formulated to be tested.\n",
    "\n",
    "<font color=\"#00bfff\">Primary Metric: 7-Day Retention</font>\n",
    "\n",
    "* **Null Hypothesis ($H_0$)**: There is **no difference** in the 7-day retention rate between the `gate_30` (control) and `gate_40` (test) groups.\n",
    "    * $H_0: p_{40} = p_{30}$\n",
    "* **Alternative Hypothesis ($H_a$)**: There is a **difference** in the 7-day retention rate between the two groups.\n",
    "    * $H_a: p_{40} \\ne p_{30}$\n",
    "\n",
    "*(where $p$ represents the proportion of users retained after 7 days)*\n",
    "\n",
    "\n",
    "<font color=\"#00bfff\">Secondary Metric: 1-Day Retention</font>\n",
    "\n",
    "* **Null Hypothesis ($H_0$)**: There is no difference in the 1-day retention rate between the `gate_30` and `gate_40` groups.\n",
    "    * $H_0: p_{40} = p_{30}$\n",
    "* **Alternative Hypothesis ($H_a$)**: There is a difference in the 1-day retention rate between the two groups.\n",
    "    * $H_a: p_{40} \\ne p_{30}$\n",
    "\n",
    "*(where $p$ represents the proportion of users retained after 1 day)*\n",
    "\n",
    "<font color=\"#00bfff\">Secondary Metric: Sum of Game Rounds</font>\n",
    "\n",
    "* **Null Hypothesis ($H_0$)**: The distribution of game rounds played in the first week is the same for both the `gate_30` and `gate_40` groups.\n",
    "    * $H_0: \\text{Distribution}_{40} = \\text{Distribution}_{30}$\n",
    "* **Alternative Hypothesis ($H_a$)**: The distribution of game rounds played in the first week is different between the two groups.\n",
    "    * $H_a: \\text{Distribution}_{40} \\ne \\text{Distribution}_{30}$\n",
    "  \n",
    "<br>\n",
    "\n",
    "One would be tempted to compare mean values of `sum_gamerounds` between groups as a basis of hypothesis. But decision of comparing distributions come from a nature of the data. A hypothesis about the mean would imply using an Independent Samples t-test. This would be problematic because:\n",
    "- **It Violates Assumptions**: The t-test assumes that the data is approximately normally distributed. But, player engagement data almost always has extreme outliers (e.g., a few players who play thousands of rounds, while most play less than 50). The mean is extremely sensitive to these outliers and can give a misleading picture of the \"typical\" player. This makes the results of a t-test unreliable.\n",
    "\n",
    "- **It Can Be Misleading**: A statistically significant difference in the mean could be caused by a handful of extreme users in one group, not by a general change in behavior for the majority of players.\n",
    "\n"
   ]
  },
  {
   "cell_type": "markdown",
   "id": "e5a9a53f",
   "metadata": {},
   "source": [
    "\n",
    "## <font color=\"#00bfff\">2.6 The Business Decision</font>\n",
    "\n",
    "Based on the pre-specified KPIs, the company will make the following decision:\n",
    "\n",
    "- **Rollout**: If the `gate_40` group shows a statistically significant and practically meaningful improvement in the primary metric (7-day retention), the change will be rolled out to all new players.\n",
    "\n",
    "- **No rollout**: If the `gate_40` group shows no improvement or a statistically significant decline in 7-day retention, the company will keep the current `gate_30` design.\n",
    "\n",
    "- **Re-evaluate**: If results are inconclusive (e.g., not statistically significant but directionally favorable), the company may collect additional data or rerun the experiment before making a final rollout decision.\n",
    "\n",
    "Secondary metrics (1-day retention and game rounds) will be used to provide supporting evidence and context but will not override the decision based on the primary metric.\n"
   ]
  },
  {
   "cell_type": "markdown",
   "id": "fd199354",
   "metadata": {},
   "source": [
    "\n",
    "\n",
    "## <font color=\"#00bfff\">2.7 Experiment Parameters</font>\n",
    "\n",
    "The following standard statistical parameters are set prior to launching the experiment to ensure the results are robust.\n",
    "\n",
    "* **Significance Level ($\\alpha$)**: **0.01**. This means we accept a 1% risk of committing a Type I error (a false positive).\n",
    "* **Statistical Power ($1-\\beta$)**: **0.90**. This provides an 90% chance of detecting a true effect if one exists (avoiding a Type II error).\n",
    "* **Minimum Detectable Effect (MDE)**: A **1%** absolute increase in 7-day retention. This is the smallest improvement considered meaningful enough to justify the change.\n"
   ]
  },
  {
   "cell_type": "markdown",
   "id": "3656728f",
   "metadata": {},
   "source": [
    "\n",
    "\n",
    "## <font color=\"#00bfff\">2.8 Sample Size and Duration</font>\n",
    "\n",
    "A power analysis was conducted to determine the necessary sample size to achieve the desired statistical power and significance.\n",
    "\n",
    "* **Required Sample Size**: Approximately **43,000** users per group (~86,000 in total).\n",
    "* **Estimated Duration**: The test was planned to run for approximately **18 days** to collect the required number of new users.\n"
   ]
  },
  {
   "cell_type": "code",
   "execution_count": 1,
   "id": "045e7f9f",
   "metadata": {},
   "outputs": [],
   "source": [
    "import numpy as np\n",
    "from scipy import stats\n",
    "\n",
    "def calculate_sample_size_proportions(baseline_rate, absolute_mde, alpha=0.05, power=0.8, two_tailed=True):\n",
    "    \"\"\"Calculates the required sample size per group for a two-sample proportions test.\n",
    "\n",
    "    Args:\n",
    "        baseline_rate (float): The conversion rate of the control group (between 0 and 1).\n",
    "        absolute_mde (float): The absolute minimum detectable effect (e.g., 0.02 for a 2 percentage point lift).\n",
    "        alpha (float, optional): The significance level (Type I error rate). Defaults to 0.05.\n",
    "        power (float, optional): The statistical power (1 - Type II error rate). Defaults to 0.8.\n",
    "        two_tailed (bool, optional): Whether the test is two-tailed or one-tailed. Defaults to True.\n",
    "\n",
    "    Returns:\n",
    "        int: The required sample size for each group.\n",
    "\n",
    "    Raises:\n",
    "        ValueError: If baseline_rate or baseline_rate + absolute_mde are not valid probabilities.\n",
    "    \"\"\"\n",
    "    # --- Input Validation ---\n",
    "    if not (0 < baseline_rate < 1):\n",
    "        raise ValueError(\"baseline_rate must be in (0, 1).\")\n",
    "    if absolute_mde <= 0:\n",
    "        raise ValueError(\"absolute_mde must be > 0.\")\n",
    "    p1 = baseline_rate\n",
    "    p2 = p1 + absolute_mde\n",
    "    if not (0 < p2 < 1):\n",
    "        raise ValueError(\"baseline_rate + absolute_mde must be in (0, 1).\")\n",
    "\n",
    "    # --- Z-scores ---\n",
    "    z_alpha = stats.norm.ppf(1 - alpha / 2) if two_tailed else stats.norm.ppf(1 - alpha)\n",
    "    z_beta = stats.norm.ppf(power)\n",
    "\n",
    "    # --- Standard Errors ---\n",
    "    p_bar = 0.5 * (p1 + p2)\n",
    "    se_H0 = np.sqrt(2 * p_bar * (1 - p_bar))      # Pooled standard error under H0\n",
    "    se_H1 = np.sqrt(p1 * (1 - p1) + p2 * (1 - p2))  # Unpooled standard error under H1\n",
    "\n",
    "    # --- Sample Size Calculation ---\n",
    "    n = ((z_alpha * se_H0 + z_beta * se_H1) ** 2) / (absolute_mde ** 2)\n",
    "    return int(np.ceil(n))\n",
    "\n",
    "\n",
    "def sample_size_analysis(baseline_rate, mde_values, alpha=0.05, power=0.8):\n",
    "    \"\"\"Prints a table showing sample sizes for different MDEs.\n",
    "\n",
    "    Args:\n",
    "        baseline_rate (float): The conversion rate of the control group.\n",
    "        mde_values (list[float]): A list of absolute MDEs to analyze.\n",
    "        alpha (float, optional): The significance level. Defaults to 0.05.\n",
    "        power (float, optional): The statistical power. Defaults to 0.8.\n",
    "    \"\"\"\n",
    "    print(\"Sample Size Analysis\")\n",
    "    print(f\"Baseline Rate: {baseline_rate:.1%} | Alpha: {alpha} | Power: {power}\")\n",
    "    print(\"-\" * 80)\n",
    "    print(f\"{'MDE (abs)':<12} {'MDE (rel)':<12} {'n per group (2-tail)':<22} \"\n",
    "          f\"{'n per group (1-tail)':<22} {'Total n (2-tail)':<15}\")\n",
    "    print(\"-\" * 80)\n",
    "\n",
    "    for mde in mde_values:\n",
    "        try:\n",
    "            rel = mde / baseline_rate\n",
    "            n_two = calculate_sample_size_proportions(baseline_rate, mde, alpha, power, two_tailed=True)\n",
    "            n_one = calculate_sample_size_proportions(baseline_rate, mde, alpha, power, two_tailed=False)\n",
    "            total_n_two = n_two * 2\n",
    "            print(f\"{mde:0.003f}      {rel:<11.1%} {n_two:<22,} \"\n",
    "                  f\"{n_one:<22,} {total_n_two:<15,}\")\n",
    "        except ValueError as e:\n",
    "            print(f\"{mde:0.003f}      -            - (Error: {e})\")"
   ]
  },
  {
   "cell_type": "code",
   "execution_count": 2,
   "id": "dc84f3a6",
   "metadata": {},
   "outputs": [
    {
     "name": "stdout",
     "output_type": "stream",
     "text": [
      "Sample Size Analysis\n",
      "Baseline Rate: 17.0% | Alpha: 0.01 | Power: 0.9\n",
      "--------------------------------------------------------------------------------\n",
      "MDE (abs)    MDE (rel)    n per group (2-tail)   n per group (1-tail)   Total n (2-tail)\n",
      "--------------------------------------------------------------------------------\n",
      "0.005      2.9%        169,913                148,645                339,826        \n",
      "0.010      5.9%        42,962                 37,585                 85,924         \n",
      "0.020      11.8%       10,979                 9,605                  21,958         \n",
      "0.030      17.6%       4,983                  4,360                  9,966          \n"
     ]
    }
   ],
   "source": [
    "alpha = 0.01\n",
    "power = 0.90\n",
    "baseline_rate = 0.17\n",
    "mde_values = [0.005, 0.01, 0.02, 0.03]\n",
    "\n",
    "sample_size_analysis(baseline_rate = baseline_rate, \n",
    "                     mde_values = mde_values,\n",
    "                     alpha = alpha,\n",
    "                     power = power)"
   ]
  },
  {
   "cell_type": "markdown",
   "id": "e5163e73",
   "metadata": {},
   "source": [
    "\n",
    "## <font color=\"#00bfff\">2.9 Target Population</font>\n",
    "\n",
    "The experiment was targeted at a specific segment of the player base to ensure clean and relevant data.\n",
    "\n",
    "* **Participants**: All **new players** who installed the game during the experiment period.\n",
    "* **Platforms**: iOS and Android.\n",
    "* **Regions**: Global."
   ]
  },
  {
   "cell_type": "markdown",
   "id": "0df21167",
   "metadata": {},
   "source": [
    "## <font color=\"#00bfff\">2.10 Statistical Test Selection</font>\n",
    "\n",
    "The choice of statistical test was based on the data type and distribution of each metric.\n",
    "\n",
    "* **Retention Metrics (`retention_1`, `retention_7`)**: A **Chi-Squared Test of Independence** was selected. This test is appropriate for comparing two proportions from independent groups (i.e., the proportion of retained users in the control group vs. the treatment group).\n",
    "  * **Why it's right**: We are comparing the proportions of a categorical outcome (retained vs. not retained) across two independent groups (control vs. treatment). The Chi-Squared test is designed for precisely this scenario, checking if there's a statistically significant association between the group and the retention outcome.\n",
    "\n",
    "* **Engagement Metric (`sum_gamerounds`)**: A **Mann-Whitney U Test** was selected. As player engagement data is typically heavily skewed and not normally distributed, this non-parametric test provides a robust way to compare the two groups' distributions without assuming normality.\n",
    "  * Mann-Whitney U test is essentially the formal statistical test for a difference in medians.\n",
    "  * **Why it's right**: We correctly identified that engagement data like sum_gamerounds is almost always heavily skewed, not following a normal distribution. Using a standard t-test would violate its core assumptions and could lead to incorrect conclusions. The Mann-Whitney U test is a non-parametric alternative that doesn't assume a normal distribution. It compares the ranks of the values in each group, making it robust to outliers and skewness."
   ]
  },
  {
   "cell_type": "markdown",
   "id": "f8c88b41",
   "metadata": {},
   "source": [
    "# <font color=\"#00bfff\">3. Data Cleaning and Exploratory Data Analysis (EDA)</font>"
   ]
  },
  {
   "cell_type": "markdown",
   "id": "7c30cb9e",
   "metadata": {},
   "source": [
    "## <font color=\"#00bfff\">3.1 Import libraries</font>"
   ]
  },
  {
   "cell_type": "code",
   "execution_count": 3,
   "id": "3a896082",
   "metadata": {},
   "outputs": [],
   "source": [
    "import polars as pl\n",
    "import numpy as np\n",
    "import matplotlib.pyplot as plt\n",
    "import seaborn as sns\n",
    "\n",
    "# Chi-square\n",
    "from scipy.stats import chi2_contingency\n",
    "# Mann-Whitney\n",
    "from scipy.stats import mannwhitneyu"
   ]
  },
  {
   "cell_type": "code",
   "execution_count": 4,
   "id": "9def09ff",
   "metadata": {},
   "outputs": [
    {
     "name": "stdout",
     "output_type": "stream",
     "text": [
      "Using custom style from 'styles/custom.mplstyle'\n"
     ]
    }
   ],
   "source": [
    "import os\n",
    "# Settings for visualizations\n",
    "\n",
    "style_path = 'styles/custom.mplstyle'\n",
    "\n",
    "# Check if the file exists at that path and apply the style\n",
    "if os.path.exists(style_path):\n",
    "    plt.style.use(style_path)\n",
    "    print(f\"Using custom style from '{style_path}'\")\n",
    "else:\n",
    "    plt.style.use('ggplot')\n",
    "    print(f\"Custom style not found at '{style_path}'. Using ggplot style instead.\")\n",
    "\n",
    "\n",
    "# define colors\n",
    "GRAY1, GRAY2, GRAY3 = '#231F20', '#414040', '#555655'\n",
    "GRAY4, GRAY5, GRAY6 = '#646369', '#76787B', '#828282'\n",
    "GRAY7, GRAY8, GRAY9 = '#929497', '#A6A6A5', '#BFBEBE'\n",
    "BLUE1, BLUE2, BLUE3, BLUE4 = '#174A7E', '#4A81BF', '#94B2D7', '#94AFC5'\n",
    "RED1, RED2 = '#C3514E', '#E6BAB7'\n",
    "GREEN1, GREEN2 = '#0C8040', '#9ABB59'\n",
    "ORANGE1 = '#F79747'\n",
    "\n",
    "BLUE, PURPLE, GREEN, PINK, RED, YELLOW, GRAY = [\"#3F7AD8\", \"#6432C6\", \"#13BF81\", \"#B715B7\", \"#DD405B\", \"#F7CB52\", \"#44546A\"]"
   ]
  },
  {
   "cell_type": "markdown",
   "id": "58d5a2e1",
   "metadata": {},
   "source": [
    "## <font color=\"#00bfff\">3.2 Load data & Initial exploration</font>"
   ]
  },
  {
   "cell_type": "code",
   "execution_count": 5,
   "id": "8d762f4f",
   "metadata": {},
   "outputs": [],
   "source": [
    "df = pl.read_csv(\"data/cookie_cats.csv\")"
   ]
  },
  {
   "cell_type": "code",
   "execution_count": 6,
   "id": "39b5b0ca",
   "metadata": {},
   "outputs": [
    {
     "name": "stdout",
     "output_type": "stream",
     "text": [
      "The dataset has 90189 rows and 5 columns.\n"
     ]
    }
   ],
   "source": [
    "# Check for shape of the dataset\n",
    "print(f\"The dataset has {df.shape[0]} rows and {df.shape[1]} columns.\")"
   ]
  },
  {
   "cell_type": "code",
   "execution_count": 7,
   "id": "15330afb",
   "metadata": {},
   "outputs": [
    {
     "data": {
      "text/plain": [
       "<bound method DataFrame.glimpse of shape: (90_189, 5)\n",
       "┌─────────┬─────────┬────────────────┬─────────────┬─────────────┐\n",
       "│ userid  ┆ version ┆ sum_gamerounds ┆ retention_1 ┆ retention_7 │\n",
       "│ ---     ┆ ---     ┆ ---            ┆ ---         ┆ ---         │\n",
       "│ i64     ┆ str     ┆ i64            ┆ bool        ┆ bool        │\n",
       "╞═════════╪═════════╪════════════════╪═════════════╪═════════════╡\n",
       "│ 116     ┆ gate_30 ┆ 3              ┆ false       ┆ false       │\n",
       "│ 337     ┆ gate_30 ┆ 38             ┆ true        ┆ false       │\n",
       "│ 377     ┆ gate_40 ┆ 165            ┆ true        ┆ false       │\n",
       "│ 483     ┆ gate_40 ┆ 1              ┆ false       ┆ false       │\n",
       "│ 488     ┆ gate_40 ┆ 179            ┆ true        ┆ true        │\n",
       "│ …       ┆ …       ┆ …              ┆ …           ┆ …           │\n",
       "│ 9999441 ┆ gate_40 ┆ 97             ┆ true        ┆ false       │\n",
       "│ 9999479 ┆ gate_40 ┆ 30             ┆ false       ┆ false       │\n",
       "│ 9999710 ┆ gate_30 ┆ 28             ┆ true        ┆ false       │\n",
       "│ 9999768 ┆ gate_40 ┆ 51             ┆ true        ┆ false       │\n",
       "│ 9999861 ┆ gate_40 ┆ 16             ┆ false       ┆ false       │\n",
       "└─────────┴─────────┴────────────────┴─────────────┴─────────────┘>"
      ]
     },
     "execution_count": 7,
     "metadata": {},
     "output_type": "execute_result"
    }
   ],
   "source": [
    "df.glimpse"
   ]
  },
  {
   "cell_type": "code",
   "execution_count": 8,
   "id": "2fe5d1f9",
   "metadata": {},
   "outputs": [
    {
     "data": {
      "text/plain": [
       "Schema([('userid', Int64),\n",
       "        ('version', String),\n",
       "        ('sum_gamerounds', Int64),\n",
       "        ('retention_1', Boolean),\n",
       "        ('retention_7', Boolean)])"
      ]
     },
     "execution_count": 8,
     "metadata": {},
     "output_type": "execute_result"
    }
   ],
   "source": [
    "# Check for dtypes\n",
    "df.schema"
   ]
  },
  {
   "cell_type": "code",
   "execution_count": 9,
   "id": "ceda2782",
   "metadata": {},
   "outputs": [
    {
     "data": {
      "text/html": [
       "<div><style>\n",
       ".dataframe > thead > tr,\n",
       ".dataframe > tbody > tr {\n",
       "  text-align: right;\n",
       "  white-space: pre-wrap;\n",
       "}\n",
       "</style>\n",
       "<small>shape: (9, 6)</small><table border=\"1\" class=\"dataframe\"><thead><tr><th>statistic</th><th>userid</th><th>version</th><th>sum_gamerounds</th><th>retention_1</th><th>retention_7</th></tr><tr><td>str</td><td>f64</td><td>str</td><td>f64</td><td>f64</td><td>f64</td></tr></thead><tbody><tr><td>&quot;count&quot;</td><td>90189.0</td><td>&quot;90189&quot;</td><td>90189.0</td><td>90189.0</td><td>90189.0</td></tr><tr><td>&quot;null_count&quot;</td><td>0.0</td><td>&quot;0&quot;</td><td>0.0</td><td>0.0</td><td>0.0</td></tr><tr><td>&quot;mean&quot;</td><td>4.9984e6</td><td>null</td><td>51.872457</td><td>0.44521</td><td>0.186065</td></tr><tr><td>&quot;std&quot;</td><td>2.8833e6</td><td>null</td><td>195.050858</td><td>null</td><td>null</td></tr><tr><td>&quot;min&quot;</td><td>116.0</td><td>&quot;gate_30&quot;</td><td>0.0</td><td>0.0</td><td>0.0</td></tr><tr><td>&quot;25%&quot;</td><td>2.51223e6</td><td>null</td><td>5.0</td><td>null</td><td>null</td></tr><tr><td>&quot;50%&quot;</td><td>4.995815e6</td><td>null</td><td>16.0</td><td>null</td><td>null</td></tr><tr><td>&quot;75%&quot;</td><td>7.496452e6</td><td>null</td><td>51.0</td><td>null</td><td>null</td></tr><tr><td>&quot;max&quot;</td><td>9.999861e6</td><td>&quot;gate_40&quot;</td><td>49854.0</td><td>1.0</td><td>1.0</td></tr></tbody></table></div>"
      ],
      "text/plain": [
       "shape: (9, 6)\n",
       "┌────────────┬────────────┬─────────┬────────────────┬─────────────┬─────────────┐\n",
       "│ statistic  ┆ userid     ┆ version ┆ sum_gamerounds ┆ retention_1 ┆ retention_7 │\n",
       "│ ---        ┆ ---        ┆ ---     ┆ ---            ┆ ---         ┆ ---         │\n",
       "│ str        ┆ f64        ┆ str     ┆ f64            ┆ f64         ┆ f64         │\n",
       "╞════════════╪════════════╪═════════╪════════════════╪═════════════╪═════════════╡\n",
       "│ count      ┆ 90189.0    ┆ 90189   ┆ 90189.0        ┆ 90189.0     ┆ 90189.0     │\n",
       "│ null_count ┆ 0.0        ┆ 0       ┆ 0.0            ┆ 0.0         ┆ 0.0         │\n",
       "│ mean       ┆ 4.9984e6   ┆ null    ┆ 51.872457      ┆ 0.44521     ┆ 0.186065    │\n",
       "│ std        ┆ 2.8833e6   ┆ null    ┆ 195.050858     ┆ null        ┆ null        │\n",
       "│ min        ┆ 116.0      ┆ gate_30 ┆ 0.0            ┆ 0.0         ┆ 0.0         │\n",
       "│ 25%        ┆ 2.51223e6  ┆ null    ┆ 5.0            ┆ null        ┆ null        │\n",
       "│ 50%        ┆ 4.995815e6 ┆ null    ┆ 16.0           ┆ null        ┆ null        │\n",
       "│ 75%        ┆ 7.496452e6 ┆ null    ┆ 51.0           ┆ null        ┆ null        │\n",
       "│ max        ┆ 9.999861e6 ┆ gate_40 ┆ 49854.0        ┆ 1.0         ┆ 1.0         │\n",
       "└────────────┴────────────┴─────────┴────────────────┴─────────────┴─────────────┘"
      ]
     },
     "execution_count": 9,
     "metadata": {},
     "output_type": "execute_result"
    }
   ],
   "source": [
    "df.describe()"
   ]
  },
  {
   "cell_type": "code",
   "execution_count": 10,
   "id": "91b9aa8b",
   "metadata": {},
   "outputs": [
    {
     "data": {
      "text/plain": [
       "0"
      ]
     },
     "execution_count": 10,
     "metadata": {},
     "output_type": "execute_result"
    }
   ],
   "source": [
    "# Check for duplicates\n",
    "df[\"userid\"].is_duplicated().sum()"
   ]
  },
  {
   "cell_type": "code",
   "execution_count": 11,
   "id": "a0cfe10e",
   "metadata": {},
   "outputs": [
    {
     "data": {
      "text/plain": [
       "90189"
      ]
     },
     "execution_count": 11,
     "metadata": {},
     "output_type": "execute_result"
    }
   ],
   "source": [
    "# Check if number of unique users matches with the row count\n",
    "df[\"userid\"].n_unique()"
   ]
  },
  {
   "cell_type": "markdown",
   "id": "07fb39e1",
   "metadata": {},
   "source": [
    "## <font color=\"#00bfff\">3.3 Data cleaning</font>\n",
    "\n",
    "- A significant outlier was detected: a single user credited with approximately 50,000 game rounds. This level of activity is highly improbable for a human player, suggesting it is likely a data error, a test account, or bot activity. Therefore, to prevent this anomalous data from skewing the analysis, this user has been excluded from the dataset.\n",
    "- `version` column datatype changed from String to Categorical."
   ]
  },
  {
   "cell_type": "code",
   "execution_count": 12,
   "id": "7dd16a09",
   "metadata": {},
   "outputs": [],
   "source": [
    "def clean_df(df):\n",
    "    \"\"\"\n",
    "    Cleans the Cookie Cats DataFrame by removing the main outlier\n",
    "    and casting the version column to a categorical type.\n",
    "    \"\"\"\n",
    "    return (\n",
    "        df.filter(\n",
    "            pl.col(\"sum_gamerounds\") < pl.col(\"sum_gamerounds\").max()\n",
    "        )\n",
    "        .with_columns(\n",
    "            pl.col(\"version\").cast(pl.Categorical)\n",
    "        )\n",
    "    )"
   ]
  },
  {
   "cell_type": "code",
   "execution_count": 13,
   "id": "1804bc04",
   "metadata": {},
   "outputs": [],
   "source": [
    "df_cleaned = clean_df(df)"
   ]
  },
  {
   "cell_type": "markdown",
   "id": "af9b3428",
   "metadata": {},
   "source": [
    "## <font color=\"#00bfff\">3.4 EDA</font>"
   ]
  },
  {
   "cell_type": "code",
   "execution_count": 14,
   "id": "6c241922",
   "metadata": {},
   "outputs": [
    {
     "data": {
      "text/html": [
       "<div><style>\n",
       ".dataframe > thead > tr,\n",
       ".dataframe > tbody > tr {\n",
       "  text-align: right;\n",
       "  white-space: pre-wrap;\n",
       "}\n",
       "</style>\n",
       "<small>shape: (9, 6)</small><table border=\"1\" class=\"dataframe\"><thead><tr><th>statistic</th><th>userid</th><th>version</th><th>sum_gamerounds</th><th>retention_1</th><th>retention_7</th></tr><tr><td>str</td><td>f64</td><td>str</td><td>f64</td><td>f64</td><td>f64</td></tr></thead><tbody><tr><td>&quot;count&quot;</td><td>90188.0</td><td>&quot;90188&quot;</td><td>90188.0</td><td>90188.0</td><td>90188.0</td></tr><tr><td>&quot;null_count&quot;</td><td>0.0</td><td>&quot;0&quot;</td><td>0.0</td><td>0.0</td><td>0.0</td></tr><tr><td>&quot;mean&quot;</td><td>4.9984e6</td><td>null</td><td>51.320253</td><td>0.445214</td><td>0.186056</td></tr><tr><td>&quot;std&quot;</td><td>2.8833e6</td><td>null</td><td>102.682719</td><td>null</td><td>null</td></tr><tr><td>&quot;min&quot;</td><td>116.0</td><td>null</td><td>0.0</td><td>0.0</td><td>0.0</td></tr><tr><td>&quot;25%&quot;</td><td>2.51223e6</td><td>null</td><td>5.0</td><td>null</td><td>null</td></tr><tr><td>&quot;50%&quot;</td><td>4.995815e6</td><td>null</td><td>16.0</td><td>null</td><td>null</td></tr><tr><td>&quot;75%&quot;</td><td>7.496452e6</td><td>null</td><td>51.0</td><td>null</td><td>null</td></tr><tr><td>&quot;max&quot;</td><td>9.999861e6</td><td>null</td><td>2961.0</td><td>1.0</td><td>1.0</td></tr></tbody></table></div>"
      ],
      "text/plain": [
       "shape: (9, 6)\n",
       "┌────────────┬────────────┬─────────┬────────────────┬─────────────┬─────────────┐\n",
       "│ statistic  ┆ userid     ┆ version ┆ sum_gamerounds ┆ retention_1 ┆ retention_7 │\n",
       "│ ---        ┆ ---        ┆ ---     ┆ ---            ┆ ---         ┆ ---         │\n",
       "│ str        ┆ f64        ┆ str     ┆ f64            ┆ f64         ┆ f64         │\n",
       "╞════════════╪════════════╪═════════╪════════════════╪═════════════╪═════════════╡\n",
       "│ count      ┆ 90188.0    ┆ 90188   ┆ 90188.0        ┆ 90188.0     ┆ 90188.0     │\n",
       "│ null_count ┆ 0.0        ┆ 0       ┆ 0.0            ┆ 0.0         ┆ 0.0         │\n",
       "│ mean       ┆ 4.9984e6   ┆ null    ┆ 51.320253      ┆ 0.445214    ┆ 0.186056    │\n",
       "│ std        ┆ 2.8833e6   ┆ null    ┆ 102.682719     ┆ null        ┆ null        │\n",
       "│ min        ┆ 116.0      ┆ null    ┆ 0.0            ┆ 0.0         ┆ 0.0         │\n",
       "│ 25%        ┆ 2.51223e6  ┆ null    ┆ 5.0            ┆ null        ┆ null        │\n",
       "│ 50%        ┆ 4.995815e6 ┆ null    ┆ 16.0           ┆ null        ┆ null        │\n",
       "│ 75%        ┆ 7.496452e6 ┆ null    ┆ 51.0           ┆ null        ┆ null        │\n",
       "│ max        ┆ 9.999861e6 ┆ null    ┆ 2961.0         ┆ 1.0         ┆ 1.0         │\n",
       "└────────────┴────────────┴─────────┴────────────────┴─────────────┴─────────────┘"
      ]
     },
     "execution_count": 14,
     "metadata": {},
     "output_type": "execute_result"
    }
   ],
   "source": [
    "df_cleaned.describe()"
   ]
  },
  {
   "cell_type": "code",
   "execution_count": 15,
   "id": "230e711f",
   "metadata": {},
   "outputs": [
    {
     "data": {
      "text/html": [
       "<div><style>\n",
       ".dataframe > thead > tr,\n",
       ".dataframe > tbody > tr {\n",
       "  text-align: right;\n",
       "  white-space: pre-wrap;\n",
       "}\n",
       "</style>\n",
       "<small>shape: (2, 6)</small><table border=\"1\" class=\"dataframe\"><thead><tr><th>version</th><th>n_observations</th><th>mean_sum_gamerounds</th><th>median_sum_gamerounds</th><th>retention_1_proportion</th><th>retention_7_proportion</th></tr><tr><td>cat</td><td>u32</td><td>f64</td><td>f64</td><td>f64</td><td>f64</td></tr></thead><tbody><tr><td>&quot;gate_30&quot;</td><td>44699</td><td>51.342111</td><td>17.0</td><td>0.448198</td><td>0.190183</td></tr><tr><td>&quot;gate_40&quot;</td><td>45489</td><td>51.298776</td><td>16.0</td><td>0.442283</td><td>0.182</td></tr></tbody></table></div>"
      ],
      "text/plain": [
       "shape: (2, 6)\n",
       "┌─────────┬────────────────┬─────────────────┬─────────────────┬─────────────────┬─────────────────┐\n",
       "│ version ┆ n_observations ┆ mean_sum_gamero ┆ median_sum_game ┆ retention_1_pro ┆ retention_7_pro │\n",
       "│ ---     ┆ ---            ┆ unds            ┆ rounds          ┆ portion         ┆ portion         │\n",
       "│ cat     ┆ u32            ┆ ---             ┆ ---             ┆ ---             ┆ ---             │\n",
       "│         ┆                ┆ f64             ┆ f64             ┆ f64             ┆ f64             │\n",
       "╞═════════╪════════════════╪═════════════════╪═════════════════╪═════════════════╪═════════════════╡\n",
       "│ gate_30 ┆ 44699          ┆ 51.342111       ┆ 17.0            ┆ 0.448198        ┆ 0.190183        │\n",
       "│ gate_40 ┆ 45489          ┆ 51.298776       ┆ 16.0            ┆ 0.442283        ┆ 0.182           │\n",
       "└─────────┴────────────────┴─────────────────┴─────────────────┴─────────────────┴─────────────────┘"
      ]
     },
     "execution_count": 15,
     "metadata": {},
     "output_type": "execute_result"
    }
   ],
   "source": [
    "# Create a new dataframe with summary statistics for each version\n",
    "q = (\n",
    "    df_cleaned.lazy()\n",
    "    .group_by(\"version\")\n",
    "    .agg(\n",
    "        pl.len().alias(\"n_observations\"),\n",
    "        pl.col(\"sum_gamerounds\").mean().alias(\"mean_sum_gamerounds\"),\n",
    "        pl.col(\"sum_gamerounds\").median().alias(\"median_sum_gamerounds\"),\n",
    "        pl.col(\"retention_1\").mean().alias(\"retention_1_proportion\"),\n",
    "        pl.col(\"retention_7\").mean().alias(\"retention_7_proportion\")\n",
    "    )\n",
    "    .sort(by=\"version\")\n",
    ")\n",
    "\n",
    "versions_df = q.collect()\n",
    "versions_df"
   ]
  },
  {
   "cell_type": "code",
   "execution_count": 16,
   "id": "47a62bf5",
   "metadata": {},
   "outputs": [
    {
     "name": "stdout",
     "output_type": "stream",
     "text": [
      "gate_30 observations: 49.56%\n",
      "gate_40 observations: 50.44%\n"
     ]
    }
   ],
   "source": [
    "gate_30_percent_observations = versions_df.select(\n",
    "    (pl.col(\"n_observations\").filter(pl.col(\"version\") == \"gate_30\")) / pl.col(\"n_observations\").sum()\n",
    ").item()\n",
    "\n",
    "gate_40_percent_observations = 1 - gate_30_percent_observations\n",
    "\n",
    "print(f\"gate_30 observations: {gate_30_percent_observations*100:.2f}%\")\n",
    "print(f\"gate_40 observations: {gate_40_percent_observations*100:.2f}%\")"
   ]
  },
  {
   "cell_type": "markdown",
   "id": "67e4bc59",
   "metadata": {},
   "source": [
    "### <font color=\"#00bfff\">Users with 0 gamerounds</font>"
   ]
  },
  {
   "cell_type": "code",
   "execution_count": 17,
   "id": "ce44183a",
   "metadata": {},
   "outputs": [
    {
     "data": {
      "text/html": [
       "<div><style>\n",
       ".dataframe > thead > tr,\n",
       ".dataframe > tbody > tr {\n",
       "  text-align: right;\n",
       "  white-space: pre-wrap;\n",
       "}\n",
       "</style>\n",
       "<small>shape: (3_994, 5)</small><table border=\"1\" class=\"dataframe\"><thead><tr><th>userid</th><th>version</th><th>sum_gamerounds</th><th>retention_1</th><th>retention_7</th></tr><tr><td>i64</td><td>cat</td><td>i64</td><td>bool</td><td>bool</td></tr></thead><tbody><tr><td>1066</td><td>&quot;gate_30&quot;</td><td>0</td><td>false</td><td>false</td></tr><tr><td>2101</td><td>&quot;gate_30&quot;</td><td>0</td><td>false</td><td>false</td></tr><tr><td>3095</td><td>&quot;gate_30&quot;</td><td>0</td><td>false</td><td>false</td></tr><tr><td>4076</td><td>&quot;gate_40&quot;</td><td>0</td><td>false</td><td>false</td></tr><tr><td>4176</td><td>&quot;gate_30&quot;</td><td>0</td><td>false</td><td>false</td></tr><tr><td>&hellip;</td><td>&hellip;</td><td>&hellip;</td><td>&hellip;</td><td>&hellip;</td></tr><tr><td>9986185</td><td>&quot;gate_30&quot;</td><td>0</td><td>false</td><td>false</td></tr><tr><td>9988600</td><td>&quot;gate_40&quot;</td><td>0</td><td>false</td><td>false</td></tr><tr><td>9990773</td><td>&quot;gate_30&quot;</td><td>0</td><td>false</td><td>false</td></tr><tr><td>9994604</td><td>&quot;gate_30&quot;</td><td>0</td><td>false</td><td>false</td></tr><tr><td>9998285</td><td>&quot;gate_30&quot;</td><td>0</td><td>false</td><td>false</td></tr></tbody></table></div>"
      ],
      "text/plain": [
       "shape: (3_994, 5)\n",
       "┌─────────┬─────────┬────────────────┬─────────────┬─────────────┐\n",
       "│ userid  ┆ version ┆ sum_gamerounds ┆ retention_1 ┆ retention_7 │\n",
       "│ ---     ┆ ---     ┆ ---            ┆ ---         ┆ ---         │\n",
       "│ i64     ┆ cat     ┆ i64            ┆ bool        ┆ bool        │\n",
       "╞═════════╪═════════╪════════════════╪═════════════╪═════════════╡\n",
       "│ 1066    ┆ gate_30 ┆ 0              ┆ false       ┆ false       │\n",
       "│ 2101    ┆ gate_30 ┆ 0              ┆ false       ┆ false       │\n",
       "│ 3095    ┆ gate_30 ┆ 0              ┆ false       ┆ false       │\n",
       "│ 4076    ┆ gate_40 ┆ 0              ┆ false       ┆ false       │\n",
       "│ 4176    ┆ gate_30 ┆ 0              ┆ false       ┆ false       │\n",
       "│ …       ┆ …       ┆ …              ┆ …           ┆ …           │\n",
       "│ 9986185 ┆ gate_30 ┆ 0              ┆ false       ┆ false       │\n",
       "│ 9988600 ┆ gate_40 ┆ 0              ┆ false       ┆ false       │\n",
       "│ 9990773 ┆ gate_30 ┆ 0              ┆ false       ┆ false       │\n",
       "│ 9994604 ┆ gate_30 ┆ 0              ┆ false       ┆ false       │\n",
       "│ 9998285 ┆ gate_30 ┆ 0              ┆ false       ┆ false       │\n",
       "└─────────┴─────────┴────────────────┴─────────────┴─────────────┘"
      ]
     },
     "execution_count": 17,
     "metadata": {},
     "output_type": "execute_result"
    }
   ],
   "source": [
    "# Check for users with 0 gamerounds\n",
    "df_cleaned.filter(pl.col(\"sum_gamerounds\") ==0)"
   ]
  },
  {
   "cell_type": "markdown",
   "id": "48783f29",
   "metadata": {},
   "source": [
    "**Analyze Players with Zero Game Rounds**\n",
    "\n",
    "Should we remove users who installed the game but played 0 rounds.\n",
    "\n",
    "**The Answer: No, we should not remove them.**\n",
    "\n",
    "Reasoning: These users represent a real and important outcome: **immediate churn**. They were correctly assigned to a group, experienced the game (or didn't), and decided not to play. Their behavior is a valid data point.\n",
    "\n",
    "Removing them would introduce **selection bias**. We would be artificially inflating our retention and engagement metrics by only analyzing the users who were engaged enough to play at least one round. The goal of the A/B test is to measure the impact on all new users, including those who churn immediately."
   ]
  },
  {
   "cell_type": "markdown",
   "id": "2ca44bdd",
   "metadata": {},
   "source": [
    "### <font color=\"#00bfff\">Distribution analysis of sum_gamerounds</font>"
   ]
  },
  {
   "cell_type": "code",
   "execution_count": 18,
   "id": "7c673a83",
   "metadata": {},
   "outputs": [
    {
     "data": {
      "text/html": [
       "<div><style>\n",
       ".dataframe > thead > tr,\n",
       ".dataframe > tbody > tr {\n",
       "  text-align: right;\n",
       "  white-space: pre-wrap;\n",
       "}\n",
       "</style>\n",
       "<small>shape: (1, 7)</small><table border=\"1\" class=\"dataframe\"><thead><tr><th>q_10</th><th>q_25</th><th>q_50</th><th>q_75</th><th>q_85</th><th>q_90</th><th>q_99</th></tr><tr><td>f64</td><td>f64</td><td>f64</td><td>f64</td><td>f64</td><td>f64</td><td>f64</td></tr></thead><tbody><tr><td>1.0</td><td>5.0</td><td>16.0</td><td>51.0</td><td>92.0</td><td>134.0</td><td>493.0</td></tr></tbody></table></div>"
      ],
      "text/plain": [
       "shape: (1, 7)\n",
       "┌──────┬──────┬──────┬──────┬──────┬───────┬───────┐\n",
       "│ q_10 ┆ q_25 ┆ q_50 ┆ q_75 ┆ q_85 ┆ q_90  ┆ q_99  │\n",
       "│ ---  ┆ ---  ┆ ---  ┆ ---  ┆ ---  ┆ ---   ┆ ---   │\n",
       "│ f64  ┆ f64  ┆ f64  ┆ f64  ┆ f64  ┆ f64   ┆ f64   │\n",
       "╞══════╪══════╪══════╪══════╪══════╪═══════╪═══════╡\n",
       "│ 1.0  ┆ 5.0  ┆ 16.0 ┆ 51.0 ┆ 92.0 ┆ 134.0 ┆ 493.0 │\n",
       "└──────┴──────┴──────┴──────┴──────┴───────┴───────┘"
      ]
     },
     "execution_count": 18,
     "metadata": {},
     "output_type": "execute_result"
    }
   ],
   "source": [
    "df_cleaned.select(\n",
    "    pl.col(\"sum_gamerounds\").quantile(0.10).alias(\"q_10\"),\n",
    "    pl.col(\"sum_gamerounds\").quantile(0.25).alias(\"q_25\"),\n",
    "    pl.col(\"sum_gamerounds\").quantile(0.5).alias(\"q_50\"),\n",
    "    pl.col(\"sum_gamerounds\").quantile(0.75).alias(\"q_75\"),\n",
    "    pl.col(\"sum_gamerounds\").quantile(0.85).alias(\"q_85\"),\n",
    "    pl.col(\"sum_gamerounds\").quantile(0.90).alias(\"q_90\"),\n",
    "    pl.col(\"sum_gamerounds\").quantile(0.99).alias(\"q_99\"),\n",
    ")"
   ]
  },
  {
   "cell_type": "code",
   "execution_count": 19,
   "id": "b7475219",
   "metadata": {},
   "outputs": [
    {
     "data": {
      "image/png": "[encoded data removed]",
      "text/plain": [
       "<Figure size 770x462 with 1 Axes>"
      ]
     },
     "metadata": {},
     "output_type": "display_data"
    }
   ],
   "source": [
    "# Empirical Cumulative Distribution Function\n",
    "sns.ecdfplot(data=df_cleaned, x=\"sum_gamerounds\")\n",
    "plt.title(\"ECDF of Game Rounds Played\")\n",
    "plt.grid(True)\n",
    "plt.show()"
   ]
  },
  {
   "cell_type": "code",
   "execution_count": 20,
   "id": "91ce9759",
   "metadata": {},
   "outputs": [
    {
     "data": {
      "image/png": "[encoded data removed]",
      "text/plain": [
       "<Figure size 1100x660 with 1 Axes>"
      ]
     },
     "metadata": {},
     "output_type": "display_data"
    }
   ],
   "source": [
    "plt.figure(figsize=(10, 6)) # Adjust figure size for better readability\n",
    "\n",
    "sns.histplot(\n",
    "    data=df_cleaned, \n",
    "    x=\"sum_gamerounds\", \n",
    "    hue=\"version\",      # Creates separate histograms for each version\n",
    "    log_scale=True,     # Uses a logarithmic scale on the x-axis\n",
    "    bins=50,            # Adjust number of bins as needed\n",
    "    common_bins=True,   # Ensures both histograms share the same bin edges\n",
    "    palette={\"gate_30\": BLUE, \"gate_40\": YELLOW}, # Custom colors\n",
    "    multiple=\"dodge\",  # This is the key change\n",
    ")\n",
    "\n",
    "plt.title(\"Distribution of Game Rounds by Version (Log Scale)\")\n",
    "plt.xlabel(\"Game Rounds (Log Scale)\")\n",
    "plt.ylabel(\"Number of Players\")\n",
    "plt.show()"
   ]
  },
  {
   "cell_type": "markdown",
   "id": "c1b542ca",
   "metadata": {},
   "source": [
    "## <font color=\"#00bfff\">3.5 EDA Summary and Insights</font>\n",
    "The initial exploration of the dataset reveals several key characteristics about the experiment and player behavior.\n",
    "\n",
    "**1. Sample Size and Group Balance**✅\n",
    "\n",
    "After cleaning, the dataset contains **90,188** unique players who participated in the A/B test. The two groups are well-balanced and of a sufficient size for robust analysis:\n",
    "- `gate_30` (**Control**): 44,699 users (~49.6%)\n",
    "- `gate_40` (**Treatment**): 45,489 users (~50.4%)\n",
    "\n",
    "This near 50/50 split indicates that the randomization process was successful and there is no significant sample ratio mismatch, giving us confidence in the experiment's design.\n",
    "\n",
    "<br>**2. Retention Proportions (Initial Observations)** 📉\n",
    "\n",
    "A preliminary look at the retention rates - the key performance indicators - suggests that moving the gate to level 40 may have had a negative impact.\n",
    "\n",
    "- **1-Day Retention**: The `gate_40` group shows a small drop in retention (**44.2%**) compared to the `gate_30` control group (**44.8%**).\n",
    "\n",
    "- **7-Day Retention**: The drop is more pronounced for 7-day retention, with the `gate_40` group at **18.2%** compared to **19.0%** for the control group.\n",
    "\n",
    "These raw numbers suggest the change was not successful, but formal hypothesis testing is required to determine if this difference is statistically significant or simply due to random chance.\n",
    "\n",
    "<br>**3. Player Engagement Distribution** 📊\n",
    "\n",
    "The distribution of `sum_gamerounds` is **heavily right-skewed**, which is typical for player engagement metrics.\n",
    "\n",
    "- The mean number of rounds played is high (around **52**) and is heavily influenced by a small number of extremely active players.\n",
    "\n",
    "- The median number of rounds played is much lower (around **17**), providing a more accurate representation of the typical player.\n",
    "\n",
    "This skewness confirms that comparing medians or distributions (using the **Mann-Whitney U test**) is the correct approach, as a comparison of means would be misleading. The initial plots show that the overall engagement distribution is very similar between the two groups."
   ]
  },
  {
   "cell_type": "markdown",
   "id": "db6a09eb",
   "metadata": {},
   "source": [
    "# <font color=\"#00bfff\">4. Statistical analysis</font>\n",
    "\n",
    "In the Statistical Analysis section, we'll formally test the hypotheses we defined in our Experiment Design. This involves running the chosen statistical tests on our cleaned data and reporting the raw statistical outputs, like the p-value."
   ]
  },
  {
   "cell_type": "markdown",
   "id": "5daf347e",
   "metadata": {},
   "source": [
    "## <font color=\"#00bfff\">4.1 Retention analysis (Chi-Squared Test)</font>\n",
    "\n",
    "Goal: To determine if the observed differences in 1-day and 7-day retention rates are statistically significant."
   ]
  },
  {
   "cell_type": "markdown",
   "id": "7e9021c2",
   "metadata": {},
   "source": [
    "### <font color=\"#00bfff\">7-day Retention analysis (Primary metric)</font>\n",
    "\n",
    "* **Null Hypothesis ($H_0$)**: There is **no difference** in the 7-day retention rate between the `gate_30` (control) and `gate_40` (test) groups.\n",
    "    * $H_0: p_{40} = p_{30}$\n",
    "* **Alternative Hypothesis ($H_a$)**: There is a **difference** in the 7-day retention rate between the two groups.\n",
    "    * $H_a: p_{40} \\ne p_{30}$\n",
    "\n",
    "*(where $p$ represents the proportion of users retained after 7 days)*\n"
   ]
  },
  {
   "cell_type": "code",
   "execution_count": 21,
   "id": "d180d2f9",
   "metadata": {},
   "outputs": [
    {
     "name": "stdout",
     "output_type": "stream",
     "text": [
      "shape: (2, 3)\n",
      "┌─────────┬──────┬───────┐\n",
      "│ version ┆ true ┆ false │\n",
      "│ ---     ┆ ---  ┆ ---   │\n",
      "│ cat     ┆ u32  ┆ u32   │\n",
      "╞═════════╪══════╪═══════╡\n",
      "│ gate_40 ┆ 8279 ┆ 37210 │\n",
      "│ gate_30 ┆ 8501 ┆ 36198 │\n",
      "└─────────┴──────┴───────┘\n"
     ]
    }
   ],
   "source": [
    "# Calculate the contingency table (distribution of true and false for each version)\n",
    "contingency_7 = (\n",
    "    df_cleaned\n",
    "    .group_by(\"version\", \"retention_7\")\n",
    "    .len()\n",
    "    .pivot(\n",
    "        index = \"version\",\n",
    "        on = \"retention_7\", # The values of retention_7 (true / false) become the columns\n",
    "        values = \"len\"\n",
    "    )\n",
    ")\n",
    "\n",
    "print(contingency_7)"
   ]
  },
  {
   "cell_type": "code",
   "execution_count": 22,
   "id": "6ee62681",
   "metadata": {},
   "outputs": [
    {
     "data": {
      "text/plain": [
       "array([[ 8279, 37210],\n",
       "       [ 8501, 36198]], dtype=uint32)"
      ]
     },
     "execution_count": 22,
     "metadata": {},
     "output_type": "execute_result"
    }
   ],
   "source": [
    "contingency_7_array = contingency_7.select(pl.all().exclude(\"version\")).to_numpy()\n",
    "contingency_7_array"
   ]
  },
  {
   "cell_type": "code",
   "execution_count": 23,
   "id": "8c4fc93b",
   "metadata": {},
   "outputs": [
    {
     "name": "stdout",
     "output_type": "stream",
     "text": [
      "\n",
      "P-value for 7-Day Retention: 0.0016\n"
     ]
    }
   ],
   "source": [
    "chi2_stat_7, p_value_7, _, _ = chi2_contingency(contingency_7_array)\n",
    "\n",
    "print(f\"\\nP-value for 7-Day Retention: {p_value_7:.4f}\")"
   ]
  },
  {
   "cell_type": "markdown",
   "id": "a66b3393",
   "metadata": {},
   "source": [
    "### <font color=\"#00bfff\">1-day Retention analysis (Secondary metric)</font>\n",
    "\n",
    "* **Null Hypothesis ($H_0$)**: There is no difference in the 1-day retention rate between the `gate_30` and `gate_40` groups.\n",
    "    * $H_0: p_{40} = p_{30}$\n",
    "* **Alternative Hypothesis ($H_a$)**: There is a difference in the 1-day retention rate between the two groups.\n",
    "    * $H_a: p_{40} \\ne p_{30}$\n",
    "\n",
    "*(where $p$ represents the proportion of users retained after 1 day)*"
   ]
  },
  {
   "cell_type": "code",
   "execution_count": 24,
   "id": "ab1ca1ba",
   "metadata": {},
   "outputs": [
    {
     "name": "stdout",
     "output_type": "stream",
     "text": [
      "shape: (2, 3)\n",
      "┌─────────┬───────┬───────┐\n",
      "│ version ┆ true  ┆ false │\n",
      "│ ---     ┆ ---   ┆ ---   │\n",
      "│ cat     ┆ u32   ┆ u32   │\n",
      "╞═════════╪═══════╪═══════╡\n",
      "│ gate_30 ┆ 20034 ┆ 24665 │\n",
      "│ gate_40 ┆ 20119 ┆ 25370 │\n",
      "└─────────┴───────┴───────┘\n"
     ]
    }
   ],
   "source": [
    "# Calculate the contingency table (distribution of true and false for each version)\n",
    "contingency_1 = (\n",
    "    df_cleaned\n",
    "    .group_by(\"version\", \"retention_1\")\n",
    "    .len()\n",
    "    .pivot(\n",
    "        index = \"version\",\n",
    "        on = \"retention_1\", # The values of retention_1 (true / false) become the columns\n",
    "        values = \"len\"\n",
    "    )\n",
    ")\n",
    "\n",
    "print(contingency_1)"
   ]
  },
  {
   "cell_type": "code",
   "execution_count": 25,
   "id": "38c6aa8e",
   "metadata": {},
   "outputs": [
    {
     "name": "stdout",
     "output_type": "stream",
     "text": [
      "\n",
      "P-value for 1-Day Retention: 0.0750\n"
     ]
    }
   ],
   "source": [
    "contingency_1_array = contingency_1.select(pl.all().exclude(\"version\")).to_numpy()\n",
    "chi2_stat_1, p_value_1, _, _ = chi2_contingency(contingency_1_array)\n",
    "\n",
    "print(f\"\\nP-value for 1-Day Retention: {p_value_1:.4f}\")"
   ]
  },
  {
   "cell_type": "markdown",
   "id": "3a76853b",
   "metadata": {},
   "source": [
    "## <font color=\"#00bfff\">4.2 Engagement Analysis (Mann-Whitney U Test)</font>"
   ]
  },
  {
   "cell_type": "markdown",
   "id": "76d75d85",
   "metadata": {},
   "source": [
    "### <font color=\"#00bfff\">Total game rounds analysis (Secondary metric)</font>\n",
    "\n",
    "* **Null Hypothesis ($H_0$)**: The distribution of game rounds played in the first week is the same for both the `gate_30` and `gate_40` groups.\n",
    "    * $H_0: \\text{Distribution}_{40} = \\text{Distribution}_{30}$\n",
    "* **Alternative Hypothesis ($H_a$)**: The distribution of game rounds played in the first week is different between the two groups.\n",
    "    * $H_a: \\text{Distribution}_{40} \\ne \\text{Distribution}_{30}$"
   ]
  },
  {
   "cell_type": "code",
   "execution_count": 26,
   "id": "12e75453",
   "metadata": {},
   "outputs": [],
   "source": [
    "# Create a separate Series for each group's game rounds\n",
    "gate_30_rounds = df_cleaned.filter(pl.col(\"version\") == \"gate_30\").get_column(\"sum_gamerounds\") # returns a Series\n",
    "gate_40_rounds = df_cleaned.filter(pl.col(\"version\") == \"gate_40\").get_column(\"sum_gamerounds\")"
   ]
  },
  {
   "cell_type": "code",
   "execution_count": 27,
   "id": "66e369d7",
   "metadata": {},
   "outputs": [
    {
     "name": "stdout",
     "output_type": "stream",
     "text": [
      "\n",
      "P-value for Game Rounds Distribution: 0.0509\n"
     ]
    }
   ],
   "source": [
    "# Perform the Mann-Whitney U test\n",
    "u_statistic, p_value_rounds = mannwhitneyu(gate_30_rounds, gate_40_rounds, alternative='two-sided')\n",
    "\n",
    "print(f\"\\nP-value for Game Rounds Distribution: {p_value_rounds:.4f}\")"
   ]
  },
  {
   "cell_type": "markdown",
   "id": "39db4b63",
   "metadata": {},
   "source": [
    "# <font color=\"#00bfff\">5. Results and Interpretation</font>\n",
    "\n",
    "This section translates the p-values from the statistical tests into business-relevant conclusions. Each result is evaluated against the pre-defined significance level of **α = 0.01**.\n",
    "\n",
    "---\n",
    "## <font color=\"#00bfff\">5.1 Primary Metric: 7-Day Retention</font>\n",
    "\n",
    "**Result**: The p-value for the 7-day retention test is **0.0016**.\n",
    "\n",
    "**Interpretation**:\n",
    "This p-value is less than our significance level of 0.01 ($0.0016 < 0.01$). Therefore, we **reject the null hypothesis**.\n",
    "\n",
    "This means there is a **statistically significant difference** in 7-day retention between the `gate_30` and `gate_40` groups. The observed drop in retention for the `gate_40` group (from 19.0% down to 18.2%) is not due to random chance.\n",
    "\n",
    "---\n",
    "## <font color=\"#00bfff\">5.2 Secondary Metrics</font>\n",
    "\n",
    "#### <font color=\"#00bfff\">1-Day Retention</font>\n",
    "**Result**: The p-value for the 1-day retention test is **0.0750**.\n",
    "\n",
    "**Interpretation**:\n",
    "This p-value is greater than our significance level of 0.01 ($0.0750 > 0.01$). Therefore, we **fail to reject the null hypothesis**. We do not have enough statistical evidence to conclude that there is a difference in 1-day retention between the two groups.\n",
    "\n",
    "#### <font color=\"#00bfff\">Game Rounds Distribution</font>\n",
    "**Result**: The p-value for the Mann-Whitney U test on game rounds is **0.0509**.\n",
    "\n",
    "**Interpretation**:\n",
    "This p-value is also greater than our significance level of 0.01 ($0.0509 > 0.01$). Therefore, we **fail to reject the null hypothesis**. We do not have enough statistical evidence to conclude that the distribution of game rounds played is different between the two groups.\n",
    "\n",
    "---\n",
    "## <font color=\"#00bfff\">5.3 Summary of Results</font>\n",
    "\n",
    "The findings from the statistical tests are summarized below:\n",
    "\n",
    "| Metric (Hypothesis) | P-value | Significance Level (α) | Result | Finding |\n",
    "| :--- | :--- | :--- | :--- | :--- |\n",
    "| **7-Day Retention (Primary)** | 0.0016 | 0.01 | **Statistically Significant** (p < α) | A significant drop in retention for the `gate_40` group. |\n",
    "| 1-Day Retention (Secondary) | 0.0750 | 0.01 | Not Significant (p > α) | No significant difference in short-term retention. |\n",
    "| Game Rounds Dist. (Secondary) | 0.0509 | 0.01 | Not Significant (p > α) | No significant difference in player engagement distribution. |"
   ]
  },
  {
   "cell_type": "markdown",
   "id": "fa933090",
   "metadata": {},
   "source": [
    "# <font color=\"#00bfff\">6. Conclusion and Recommendation</font>\n",
    "\n",
    "This A/B test was designed to determine if moving the first in-game gate from level 30 to level 40 would improve player retention and engagement. The analysis of data from over 90,000 new players provides a clear answer to this question.\n",
    "\n",
    "## <font color=\"#00bfff\">6.1 Summary of Findings</font>\n",
    "The statistical analysis revealed a significant negative impact on the primary metric, **7-day retention**. Players who encountered the gate at level 40 were less likely to return to the game after a week compared to players in the control group who saw the gate at level 30.\n",
    "\n",
    "Furthermore, the change showed no statistically significant positive impact on the secondary metrics; neither short-term (1-day) retention nor overall player engagement (distribution of game rounds played) improved.\n",
    "\n",
    "## <font color=\"#00bfff\">6.2 The Business Decision</font>\n",
    "The initial hypothesis was that a later gate would lead to a better player experience and thus higher retention. The results of this experiment **do not support this hypothesis**. The data provides strong evidence that the change was, in fact, detrimental to long-term player retention.\n",
    "\n",
    "## <font color=\"#00bfff\">6.3 Final Recommendation</font>\n",
    "Based on the statistically significant decrease in 7-day retention with no corresponding improvement in player engagement, the final recommendation is to **not roll out the change**.\n",
    "\n",
    "The company should **maintain the in-game gate at its original position at level 30**. The earlier gate, while a point of friction, appears to serve as a more effective commitment point for players, leading to better long-term retention."
   ]
  }
 ],
 "metadata": {
  "kernelspec": {
   "display_name": "base",
   "language": "python",
   "name": "python3"
  },
  "language_info": {
   "codemirror_mode": {
    "name": "ipython",
    "version": 3
   },
   "file_extension": ".py",
   "mimetype": "text/x-python",
   "name": "python",
   "nbconvert_exporter": "python",
   "pygments_lexer": "ipython3",
   "version": "3.13.5"
  }
 },
 "nbformat": 4,
 "nbformat_minor": 5
}
